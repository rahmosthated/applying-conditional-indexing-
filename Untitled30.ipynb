{
  "nbformat": 4,
  "nbformat_minor": 0,
  "metadata": {
    "colab": {
      "provenance": [],
      "authorship_tag": "ABX9TyMD/CZO8IW3zhJWwisk65LZ",
      "include_colab_link": true
    },
    "kernelspec": {
      "name": "python3",
      "display_name": "Python 3"
    },
    "language_info": {
      "name": "python"
    }
  },
  "cells": [
    {
      "cell_type": "markdown",
      "metadata": {
        "id": "view-in-github",
        "colab_type": "text"
      },
      "source": [
        "<a href=\"https://colab.research.google.com/github/rahmosthated/applying-conditional-indexing-/blob/main/Untitled30.ipynb\" target=\"_parent\"><img src=\"https://colab.research.google.com/assets/colab-badge.svg\" alt=\"Open In Colab\"/></a>"
      ]
    },
    {
      "cell_type": "code",
      "source": [
        "import pandas as pd  # Import the pandas library and give it a shorter name 'pd' for convenience.\n",
        "                     # Pandas helps us work with tables of data in Python (DataFrames).\n",
        "\n",
        "# Create a sample DataFrame with item names and prices\n",
        "df = pd.DataFrame({               # Create a DataFrame (table) using a dictionary\n",
        "    'Item': ['Shoes', 'Shirt', 'Hat', 'Jacket'],  # First column named 'Item' with a list of product names\n",
        "    'Price': [120, 45, 80, 150]                   # Second column named 'Price' with matching prices\n",
        "})\n",
        "# At this point, 'df' looks like:\n",
        "#      Item   Price\n",
        "# 0   Shoes    120\n",
        "# 1   Shirt     45\n",
        "# 2     Hat     80\n",
        "# 3  Jacket    150\n",
        "\n",
        "# Create a condition to check if the 'Price' column is greater than 100\n",
        "condition = df['Price'] > 100\n",
        "# df['Price'] gives us the column of prices: [120, 45, 80, 150]\n",
        "# The '> 100' part checks each value in that column.\n",
        "# This returns a series of True/False values for each row:\n",
        "# [True, False, False, True]\n",
        "# True means the price is greater than 100, False means it’s not.\n",
        "\n",
        "# Print the boolean series\n",
        "print(condition)\n",
        "# This shows:\n",
        "# 0     True    # Row 0 → 120 > 100\n",
        "# 1    False    # Row 1 → 45 > 100\n",
        "# 2    False    # Row 2 → 80 > 100\n",
        "# 3     True    # Row 3 → 150 > 100\n",
        "# Name: Price, dtype: bool\n"
      ],
      "metadata": {
        "id": "t3cbElHaWDsk"
      },
      "execution_count": null,
      "outputs": []
    }
  ]
}